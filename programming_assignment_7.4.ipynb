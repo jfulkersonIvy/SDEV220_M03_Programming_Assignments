{
 "cells": [
  {
   "cell_type": "code",
   "execution_count": 7,
   "id": "2999e85e",
   "metadata": {},
   "outputs": [],
   "source": [
    "slow = 1\n",
    "medium = 2\n",
    "fast = 3"
   ]
  },
  {
   "cell_type": "code",
   "execution_count": 9,
   "id": "fa5a35b0",
   "metadata": {},
   "outputs": [],
   "source": [
    "class Fan:\n",
    "    def __init__(self, __speed = slow, __on = False, __radius = 5, __color = \"blue\"):\n",
    "        self.__speed = __speed\n",
    "        self.__on = __on\n",
    "        self.__radius = __radius\n",
    "        self.__color = __color\n",
    "        \n",
    "    def getSpeed(self):\n",
    "        return self.__speed\n",
    "\n",
    "    def getOn(self):\n",
    "        return self.__on\n",
    "\n",
    "    def getRadius(self):\n",
    "        return self.__radius\n",
    "\n",
    "    def getColor(self):\n",
    "        return self.__color\n",
    "\n",
    "    def setSpeed(self, speed):\n",
    "        self.__speed = speed\n",
    "\n",
    "    def setOn(self, on):\n",
    "        self.__on = on\n",
    "    \n",
    "    def setRadius(self, radius):\n",
    "        self.__radius = radius\n",
    "\n",
    "    def setColor(self, color):\n",
    "        self.__color = color"
   ]
  },
  {
   "cell_type": "code",
   "execution_count": 11,
   "id": "8027b801",
   "metadata": {},
   "outputs": [],
   "source": [
    "fan1 = Fan(fast, True, 10, \"yellow\")\n",
    "fan2 = Fan(medium, False, 5, \"blue\")"
   ]
  },
  {
   "cell_type": "code",
   "execution_count": 13,
   "id": "c39bc8eb",
   "metadata": {},
   "outputs": [
    {
     "name": "stdout",
     "output_type": "stream",
     "text": [
      "Fan 1 speed: 3\n",
      "Fan 1 is turned on: True\n",
      "Fan 1 radius: 10\n",
      "Fan 1 color: yellow\n",
      "\n",
      "Fan 2 speed: 2\n",
      "Fan 2 is turned on: False\n",
      "Fan 2 radius: 5\n",
      "Fan 2 color: blue\n"
     ]
    }
   ],
   "source": [
    "print(\"Fan 1 speed: {}\".format(fan1.getSpeed()))\n",
    "print(\"Fan 1 is turned on: {}\".format(fan1.getOn()))\n",
    "print(\"Fan 1 radius: {}\".format(fan1.getRadius()))\n",
    "print(\"Fan 1 color: {}\".format(fan1.getColor()))\n",
    "print()\n",
    "print(\"Fan 2 speed: {}\".format(fan2.getSpeed()))\n",
    "print(\"Fan 2 is turned on: {}\".format(fan2.getOn()))\n",
    "print(\"Fan 2 radius: {}\".format(fan2.getRadius()))\n",
    "print(\"Fan 2 color: {}\".format(fan2.getColor()))"
   ]
  },
  {
   "cell_type": "code",
   "execution_count": null,
   "id": "d3941b73",
   "metadata": {},
   "outputs": [],
   "source": []
  }
 ],
 "metadata": {
  "kernelspec": {
   "display_name": "Python 3 (ipykernel)",
   "language": "python",
   "name": "python3"
  },
  "language_info": {
   "codemirror_mode": {
    "name": "ipython",
    "version": 3
   },
   "file_extension": ".py",
   "mimetype": "text/x-python",
   "name": "python",
   "nbconvert_exporter": "python",
   "pygments_lexer": "ipython3",
   "version": "3.9.12"
  }
 },
 "nbformat": 4,
 "nbformat_minor": 5
}
